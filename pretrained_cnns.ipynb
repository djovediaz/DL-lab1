{
 "cells": [
  {
   "cell_type": "markdown",
   "metadata": {},
   "source": [
    "# Classifying CIFAR 100 with a pretrained model"
   ]
  },
  {
   "cell_type": "code",
   "execution_count": null,
   "metadata": {},
   "outputs": [],
   "source": [
    "import tensorflow as tf\n",
    "\n",
    "# Load the CIFAR-100 dataset\n",
    "(x_train, y_train), (x_test, y_test) = tf.keras.datasets.cifar100.load_data(label_mode=\"coarse\")\n",
    "\n",
    "# Print the shape of the data\n",
    "print(f'Training data shape: {x_train.shape}, Training labels shape: {y_train.shape}')\n",
    "print(f'Test data shape: {x_test.shape}, Test labels shape: {y_test.shape}')\n",
    "num_classes = len(set(y_train.flatten()))\n",
    "print(f'Number of different labels: {num_classes}')"
   ]
  },
  {
   "cell_type": "code",
   "execution_count": null,
   "metadata": {},
   "outputs": [],
   "source": [
    "x_train = x_train.astype('float32') / 255.0\n",
    "x_test = x_test.astype('float32') / 255.0\n"
   ]
  },
  {
   "cell_type": "code",
   "execution_count": null,
   "metadata": {},
   "outputs": [],
   "source": [
    "from utils import plot_label_distribution\n",
    "from sklearn.model_selection import train_test_split\n",
    "import numpy as np\n",
    "\n",
    "x_train, x_val, y_train, y_val = train_test_split(x_train, y_train, test_size=0.2, random_state=42)\n",
    "\n",
    "import matplotlib.pyplot as plt\n",
    "\n",
    "\n",
    "# Plot label distribution for training, validation, and test sets\n",
    "plot_label_distribution(y_train, 'Training Set Label Distribution')\n",
    "plot_label_distribution(y_val, 'Validation Set Label Distribution')\n",
    "plot_label_distribution(y_test, 'Test Set Label Distribution')\n",
    "#\n",
    "print(f'New training data shape: {x_train.shape}, New training labels shape: {y_train.shape}')\n",
    "print(f'Validation data shape: {x_val.shape}, Validation labels shape: {y_val.shape}')\n",
    "print(f'Test data shape: {x_val.shape}, Test labels shape: {y_val.shape}')\n"
   ]
  }
 ],
 "metadata": {
  "kernelspec": {
   "display_name": ".venv",
   "language": "python",
   "name": "python3"
  },
  "language_info": {
   "name": "python",
   "version": "3.12.7"
  }
 },
 "nbformat": 4,
 "nbformat_minor": 2
}
